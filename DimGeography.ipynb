{
 "cells": [
  {
   "cell_type": "markdown",
   "id": "d083689c-b9e2-4fa6-b218-0cdfe6280c45",
   "metadata": {},
   "source": [
    "# GEOGRAPHY DIMENSION"
   ]
  },
  {
   "cell_type": "code",
   "execution_count": 1,
   "id": "9a38cafd-8a89-4bd1-ae9d-50eae0e9a8e9",
   "metadata": {},
   "outputs": [],
   "source": [
    "import pandas as pd\n",
    "from connection_script import connect_databases"
   ]
  },
  {
   "cell_type": "code",
   "execution_count": 2,
   "id": "12c7175c-0d18-4118-8803-48b42864f0b6",
   "metadata": {},
   "outputs": [],
   "source": [
    "db_op, db_etl = connect_databases()"
   ]
  },
  {
   "cell_type": "markdown",
   "id": "a4b1dc03-7446-40fa-bceb-329fc789f340",
   "metadata": {},
   "source": [
    "## EXTRACT "
   ]
  },
  {
   "cell_type": "code",
   "execution_count": 3,
   "id": "3fe41eb7-e387-4586-b304-734e5d3afe99",
   "metadata": {},
   "outputs": [],
   "source": [
    "query = \"\"\"\n",
    "        SELECT DISTINCT t1.City, t2.StateProvinceCode,\n",
    "        t2.Name AS StateProvinceName,\n",
    "        t2.CountryRegionCode, t3.Name AS EnglishCountryRegionName, t1.PostalCode, t4.TerritoryID AS SalesTerritoryID\n",
    "        FROM [Person].[Address] AS t1\n",
    "        INNER JOIN [Person].[StateProvince] AS t2\n",
    "        ON t1.StateProvinceID = t2.StateProvinceID\n",
    "        INNER JOIN [Person].[CountryRegion] AS t3\n",
    "        ON t2.CountryRegionCode = t3.CountryRegionCode\n",
    "        INNER JOIN [Sales].[SalesTerritory] AS t4\n",
    "        ON t2.TerritoryID = t4.TerritoryID\n",
    "        ORDER BY EnglishCountryRegionName, t2.StateProvinceCode, t1.City ASC\n",
    "        \"\"\"\n",
    "dim_geography = pd.read_sql_query(query, db_op)"
   ]
  },
  {
   "cell_type": "code",
   "execution_count": 4,
   "id": "8940dba3-3437-4658-bc21-75f7eff8de21",
   "metadata": {},
   "outputs": [
    {
     "data": {
      "text/plain": [
       "683"
      ]
     },
     "execution_count": 4,
     "metadata": {},
     "output_type": "execute_result"
    }
   ],
   "source": [
    "len(dim_geography) # No matching size yet"
   ]
  },
  {
   "cell_type": "code",
   "execution_count": 5,
   "id": "75662290-eefc-4973-a194-ed322ece5d8a",
   "metadata": {},
   "outputs": [],
   "source": [
    "# Increase table index by one\n",
    "dim_geography.index += 1"
   ]
  },
  {
   "cell_type": "markdown",
   "id": "32aff1d6-4f2b-4a93-8cc5-33f6f5426f3e",
   "metadata": {},
   "source": [
    "## LOAD"
   ]
  },
  {
   "cell_type": "code",
   "execution_count": 6,
   "id": "5f4a01c5-da74-48b2-8e5e-76eca62ef648",
   "metadata": {},
   "outputs": [
    {
     "data": {
      "text/plain": [
       "159"
      ]
     },
     "execution_count": 6,
     "metadata": {},
     "output_type": "execute_result"
    }
   ],
   "source": [
    "dim_geography.to_sql('DimGeography', db_etl, if_exists='replace', index_label='GeographyKey')"
   ]
  },
  {
   "cell_type": "code",
   "execution_count": null,
   "id": "9baf4961-9bcf-4410-856e-9826159c9b96",
   "metadata": {},
   "outputs": [],
   "source": []
  }
 ],
 "metadata": {
  "kernelspec": {
   "display_name": "Python 3 (ipykernel)",
   "language": "python",
   "name": "python3"
  },
  "language_info": {
   "codemirror_mode": {
    "name": "ipython",
    "version": 3
   },
   "file_extension": ".py",
   "mimetype": "text/x-python",
   "name": "python",
   "nbconvert_exporter": "python",
   "pygments_lexer": "ipython3",
   "version": "3.12.3"
  }
 },
 "nbformat": 4,
 "nbformat_minor": 5
}
