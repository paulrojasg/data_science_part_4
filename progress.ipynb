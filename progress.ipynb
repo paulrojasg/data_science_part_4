{
 "cells": [
  {
   "cell_type": "markdown",
   "id": "a0764893-b8aa-45f7-9cd5-7c639c859411",
   "metadata": {},
   "source": [
    "## Progress \n",
    "\n",
    "### DONE: it means that the table is completed and completely matches with the original\n",
    "### ACCEPTABLE: it means that the table doesn't match completely with the original but its result is acceptable\n",
    "\n",
    "\n",
    "- FactInternetSales - **matches count, currencykey, salespricenumber, customerponumber columns are missing, multiple data items are in the wrong order as well or maybe the data is different**\n",
    "- DimCurrency **- DimCurrency matches count, schema and data (DONE)**\n",
    "- DimCustomer **- matches count, conmutedistance column is missing, items are not in the right order (which might lead to errors)**\n",
    "    - DimGeography **- does’t match count, IpAddressLocator column is missing because column could not be found**\n",
    "        - DimSalesTerritory - **matches count, salesterritoryimage column is missing because column could not be found (ACCEPTABLE)**\n",
    "- DimDate **- matches count, weeknumberofyear different to how it should be because the first week of the year should start from 1 not 0, fiscalyear year doesn’t match either because from 2011-01-01 the fiscal year reduced one unit with a known reason so far (ACCEPTABLE)**\n",
    "- DimProduct **- matches count, sorted the table by productID to correct row order, columns are not in the right order, sizerange, dealerprice, germandescription, japanesedescription, turkishdescriptions, startdate, enddate and status colums are not present in source DB and can be ignored**\n",
    "    - DimProductSubcategory - **(DONE)**\n",
    "        - DimProductCategory - **(DONE)**\n",
    "- DimPromotion **- matches count, promotionkey, startdate, enddate don’t match,**\n",
    "- DimEmployee **- Emergency Contact can't be obtained from source DB (ACCEPTABLE)**\n",
    "- FactResellerSales **- Done!**\n",
    "- DimPromotion **- matches count, startdate and enddate columns don’t match but may be because of a difference between the original source database used (ACCEPTABLE)**,\n",
    "- DimReseller **- OrderFrequency, OrderMonth and minPayment can't be obtained from source DB (ACCEPTABLE)**"
   ]
  },
  {
   "cell_type": "code",
   "execution_count": null,
   "id": "9694e71a-4cb2-420f-ac43-698ed41f5689",
   "metadata": {},
   "outputs": [],
   "source": []
  }
 ],
 "metadata": {
  "kernelspec": {
   "display_name": "Python 3 (ipykernel)",
   "language": "python",
   "name": "python3"
  },
  "language_info": {
   "codemirror_mode": {
    "name": "ipython",
    "version": 3
   },
   "file_extension": ".py",
   "mimetype": "text/x-python",
   "name": "python",
   "nbconvert_exporter": "python",
   "pygments_lexer": "ipython3",
   "version": "3.12.3"
  }
 },
 "nbformat": 4,
 "nbformat_minor": 5
}
