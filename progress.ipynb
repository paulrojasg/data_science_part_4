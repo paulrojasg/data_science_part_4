{
 "cells": [
  {
   "cell_type": "code",
   "execution_count": null,
   "id": "bc916eb7-377a-4806-b547-b76a5c1a3616",
   "metadata": {},
   "outputs": [],
   "source": []
  }
 ],
 "metadata": {
  "kernelspec": {
   "display_name": "",
   "name": ""
  },
  "language_info": {
   "name": ""
  }
 },
 "nbformat": 4,
 "nbformat_minor": 5
}
