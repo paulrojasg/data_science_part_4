{
 "cells": [
  {
   "cell_type": "markdown",
   "id": "a0764893-b8aa-45f7-9cd5-7c639c859411",
   "metadata": {},
   "source": [
    "## Progress \n",
    "\n",
    "### DONE: it means that the table is completed and completely matches with the original\n",
    "### ACCEPTABLE: it means that the table doesn't match completely with the original but its result is acceptable\n",
    "\n",
    "\n",
    "- FactInternetSales - **matches count, salespricenumber column is missing, multiple data items are in the wrong order as well or maybe the data is different**\n",
    "- DimCurrency **- DimCurrency matches count, schema and data (DONE)**\n",
    "- DimCustomer **- matches count, conmutedistance column is missing**\n",
    "    - DimGeography **- does’t match count, IpAddressLocator column is missing because column could not be found**\n",
    "        - DimSalesTerritory - **matches count, salesterritoryimage column is missing because column could not be found (ACCEPTABLE)**\n",
    "- DimDate **- matches count, weeknumberofyear different to how it should be because the first week of the year should start from 1 not 0, fiscalyear year doesn’t match either because from 2011-01-01 the fiscal year reduced one unit with a known reason so far (ACCEPTABLE)**\n",
    "- DimProduct **- matches count, sorted the table by productID to correct row order, columns are not in the right order, sizerange, dealerprice, germandescription, japanesedescription, turkishdescriptions, startdate, enddate and status colums are not present in source DB and can be ignored**\n",
    "    - DimProductSubcategory - **(DONE)**\n",
    "        - DimProductCategory - **(DONE)**\n",
    "- DimEmployee **- Emergency Contact can't be obtained from source DB (ACCEPTABLE)**\n",
    "- FactResellerSales **- Done!**\n",
    "- DimPromotion **- matches count, startdate and enddate columns don’t match but may be because of a difference between the original source database used (ACCEPTABLE)**,\n",
    "- DimReseller **- OrderFrequency, OrderMonth and minPayment can't be obtained from source DB (ACCEPTABLE)**"
   ]
  },
  {
   "cell_type": "markdown",
   "id": "16809061-5da5-4a42-a3c4-e26a0b7ad9ff",
   "metadata": {},
   "source": [
    "## FINAL VERSION"
   ]
  },
  {
   "cell_type": "markdown",
   "id": "a3dae969-d859-46bb-978a-502365db3a27",
   "metadata": {},
   "source": [
    "-- 13 tables\n",
    "1. DimCurrency: DONE\n",
    "2. DimSalesTerritory: SalesTerritoryimage column was not found\n",
    "3. DimGeography: IpAddressLocator column was not found; original source has 655 entries and our implementation has 683\n",
    "4. DimCustomer: YearlyIncome values are different; CommuteDistance column was not found\n",
    "5. DimDate: WeekNumberOfYear is different; data values from date 01-01-2011 do not match\n",
    "6. DimProductCategory: Done\n",
    "7. DimProductSubcategory: Done\n",
    "8. DimProduct: In color, NULL values should be NA; GermanDescription, JapaneseDescription, TurkishDescription, StartDate, EndDate and Status columns are missing\n",
    "9. DimPromotion: It looks like StartDate and EndDate columns have different values\n",
    "10. DimReseller: It looks like data is in a different order; OrderFrequency, OrderMonth, MinPaymentType, MinTypeAmount columns are missing\n",
    "11. DimEmployee: NameStyle, EmergencyContactName, EmergencyContactType, isSalesPerson, SalesPersonFlag, DepartmentName, Status, EmployePhoto are missing; Rate column should be called BaseRate\n",
    "12. FactInternetSales: SalesOrderLineNumber column is missing\n",
    "13. FactResellerSales: Number of registries is different; RevisionNumber column is missing; Date values are different"
   ]
  },
  {
   "cell_type": "code",
   "execution_count": null,
   "id": "2fc15379-2f54-4ce5-bbeb-194c11f08751",
   "metadata": {},
   "outputs": [],
   "source": []
  }
 ],
 "metadata": {
  "kernelspec": {
   "display_name": "Python 3 (ipykernel)",
   "language": "python",
   "name": "python3"
  },
  "language_info": {
   "codemirror_mode": {
    "name": "ipython",
    "version": 3
   },
   "file_extension": ".py",
   "mimetype": "text/x-python",
   "name": "python",
   "nbconvert_exporter": "python",
   "pygments_lexer": "ipython3",
   "version": "3.12.3"
  }
 },
 "nbformat": 4,
 "nbformat_minor": 5
}
