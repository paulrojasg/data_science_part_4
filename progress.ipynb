{
 "cells": [
  {
   "cell_type": "markdown",
   "id": "a0764893-b8aa-45f7-9cd5-7c639c859411",
   "metadata": {},
   "source": [
    "## Progress \n",
    "\n",
    "### DONE: it means that the table is completed and completely matches with the original\n",
    "### ACCEPTABLE: it means that the table doesn't match completely with the original but its result is acceptable\n",
    "\n",
    "\n",
    "- FactInternetSales - **matches count, columns are in the wrong order, currencykey, unitpricediscountpct, discountamount, productstandardcost, totalproductcost, salesamount, customerponumber columns are missing, multiple data items are in the wrong order as well**\n",
    "- DimCurrency **- DimCurrency matches count, schema and data**\n",
    "- DimCustomer **- matches count, conmutedistance column is missing, items are not in the right order (which might lead to errors)**\n",
    "    - DimGeography **- does’t match count, IpAddressLocator column is missing**\n",
    "        - DimSalesTerritory - **matches count, salesterritoryimage column is missing**\n",
    "- DimDate **- matches count, weeknumberofyear different to how it should be, fiscalyear year doesn’t match either (ACCEPTABLE)**\n",
    "- DimProduct **- doesn’t match count, columns are not in the right order, sizerange, dealerprice, germandescription, japanesedescription, turkishdescriptions, startdate, enddate and status colums are missing**\n",
    "    - DimProductSubcategory - **(DONE)**\n",
    "        - DimProductCategory - **(DONE)**\n",
    "- DimPromotion **- matches count, promotionkey, startdate, enddate don’t match,**\n",
    "- DimEmployee **- matches count, ParentEmployee and Emergency Contact not present in source DB,**\n",
    "- DimReseller **- matches count, OrderFrequency, OrderMonth and minPayment not present not present in source DB,**"
   ]
  },
  {
   "cell_type": "code",
   "execution_count": null,
   "id": "9694e71a-4cb2-420f-ac43-698ed41f5689",
   "metadata": {},
   "outputs": [],
   "source": []
  }
 ],
 "metadata": {
  "kernelspec": {
   "display_name": "Python 3 (ipykernel)",
   "language": "python",
   "name": "python3"
  },
  "language_info": {
   "codemirror_mode": {
    "name": "ipython",
    "version": 3
   },
   "file_extension": ".py",
   "mimetype": "text/x-python",
   "name": "python",
   "nbconvert_exporter": "python",
   "pygments_lexer": "ipython3",
   "version": "3.12.3"
  }
 },
 "nbformat": 4,
 "nbformat_minor": 5
}
