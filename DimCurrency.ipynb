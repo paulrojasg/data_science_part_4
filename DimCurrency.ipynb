{
 "cells": [
  {
   "cell_type": "markdown",
   "id": "ad050968-28e7-4ec1-b546-0050f550a9cd",
   "metadata": {},
   "source": [
    "# CURRENCY DIMENSION"
   ]
  },
  {
   "cell_type": "code",
   "execution_count": 1,
   "id": "5e7682fd-9b93-4bfb-8ad3-e2b40d0501e8",
   "metadata": {},
   "outputs": [],
   "source": [
    "import pandas as pd\n",
    "from connection_script import connect_databases"
   ]
  },
  {
   "cell_type": "code",
   "execution_count": 2,
   "id": "994e6e6a-8b2a-4627-b487-92ec90a9096f",
   "metadata": {},
   "outputs": [],
   "source": [
    "db_op, db_etl = connect_databases()"
   ]
  },
  {
   "cell_type": "markdown",
   "id": "fccf92d3-08ba-4ef7-830a-d9d5f1e691b4",
   "metadata": {},
   "source": [
    "## EXTRACT"
   ]
  },
  {
   "cell_type": "code",
   "execution_count": 3,
   "id": "b50c2fde-c84d-4bdb-96a4-67c3998dade7",
   "metadata": {},
   "outputs": [],
   "source": [
    "dim_currency = pd.read_sql_query('SELECT * FROM [Sales].[Currency]', db_op)"
   ]
  },
  {
   "cell_type": "markdown",
   "id": "6fbc5dcc-f339-4c3d-9c7d-a0daff9534e4",
   "metadata": {},
   "source": [
    "## TRANSFORM"
   ]
  },
  {
   "cell_type": "code",
   "execution_count": 4,
   "id": "456e83b9-cee9-4ced-a964-db0b0513f0a4",
   "metadata": {},
   "outputs": [],
   "source": [
    "# Drop columns\n",
    "dim_currency = dim_currency.drop(columns='ModifiedDate')"
   ]
  },
  {
   "cell_type": "code",
   "execution_count": 5,
   "id": "824662b4-2ed9-45d7-8235-e0efb6f38c92",
   "metadata": {},
   "outputs": [],
   "source": [
    "# Rename Columns\n",
    "dim_currency = dim_currency.rename(columns={\"CurrencyCode\": \"CurrencyAlternateKey\", \"Name\": \"CurrencyName\"})"
   ]
  },
  {
   "cell_type": "code",
   "execution_count": 6,
   "id": "ea782346-d6cd-4672-bac8-c078846dcf0f",
   "metadata": {},
   "outputs": [],
   "source": [
    "# Sort registries\n",
    "dim_currency = dim_currency.sort_values(by=[\"CurrencyName\"])\n",
    "dim_currency = dim_currency.reset_index(drop=True)\n",
    "dim_currency.index += 1"
   ]
  },
  {
   "cell_type": "markdown",
   "id": "475d7fa3-f321-47a7-b42f-92b5c2ed9cf1",
   "metadata": {},
   "source": [
    "## Load"
   ]
  },
  {
   "cell_type": "code",
   "execution_count": 7,
   "id": "0e55cf32-a13d-4a26-ae13-038e523d1e88",
   "metadata": {},
   "outputs": [
    {
     "data": {
      "text/plain": [
       "105"
      ]
     },
     "execution_count": 7,
     "metadata": {},
     "output_type": "execute_result"
    }
   ],
   "source": [
    "dim_currency.to_sql('DimCurrency', db_etl, if_exists='replace', index_label='CurrencyKey')"
   ]
  },
  {
   "cell_type": "code",
   "execution_count": null,
   "id": "5b52c7e3-9d72-48fd-9c2a-6188a39c3894",
   "metadata": {},
   "outputs": [],
   "source": []
  }
 ],
 "metadata": {
  "kernelspec": {
   "display_name": "Python 3 (ipykernel)",
   "language": "python",
   "name": "python3"
  },
  "language_info": {
   "codemirror_mode": {
    "name": "ipython",
    "version": 3
   },
   "file_extension": ".py",
   "mimetype": "text/x-python",
   "name": "python",
   "nbconvert_exporter": "python",
   "pygments_lexer": "ipython3",
   "version": "3.12.3"
  }
 },
 "nbformat": 4,
 "nbformat_minor": 5
}
