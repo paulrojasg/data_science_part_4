{
 "cells": [
  {
   "cell_type": "markdown",
   "id": "ad050968-28e7-4ec1-b546-0050f550a9cd",
   "metadata": {},
   "source": [
    "# CURRENCY DIMENSION"
   ]
  },
  {
   "cell_type": "code",
   "execution_count": 1,
   "id": "5e7682fd-9b93-4bfb-8ad3-e2b40d0501e8",
   "metadata": {},
   "outputs": [],
   "source": [
    "import pandas as pd\n",
    "from connection_script import connect_databases"
   ]
  },
  {
   "cell_type": "code",
   "execution_count": 2,
   "id": "994e6e6a-8b2a-4627-b487-92ec90a9096f",
   "metadata": {},
   "outputs": [],
   "source": [
    "db_op, db_etl = connect_databases()"
   ]
  },
  {
   "cell_type": "markdown",
   "id": "fccf92d3-08ba-4ef7-830a-d9d5f1e691b4",
   "metadata": {},
   "source": [
    "## EXTRACT"
   ]
  },
  {
   "cell_type": "code",
   "execution_count": 3,
   "id": "b50c2fde-c84d-4bdb-96a4-67c3998dade7",
   "metadata": {},
   "outputs": [],
   "source": [
    "dim_currency = pd.read_sql_query('SELECT * FROM [Sales].[Currency]', db_op)"
   ]
  },
  {
   "cell_type": "markdown",
   "id": "6fbc5dcc-f339-4c3d-9c7d-a0daff9534e4",
   "metadata": {},
   "source": [
    "## TRANSFORM"
   ]
  },
  {
   "cell_type": "code",
   "execution_count": 4,
   "id": "456e83b9-cee9-4ced-a964-db0b0513f0a4",
   "metadata": {},
   "outputs": [],
   "source": [
    "# Drop columns\n",
    "dim_currency = dim_currency.drop(columns='ModifiedDate')"
   ]
  },
  {
   "cell_type": "code",
   "execution_count": 5,
   "id": "824662b4-2ed9-45d7-8235-e0efb6f38c92",
   "metadata": {},
   "outputs": [],
   "source": [
    "# Rename Columns\n",
    "dim_currency = dim_currency.rename(columns={\"CurrencyCode\": \"CurrencyAlternateKey\", \"Name\": \"CurrencyName\"})"
   ]
  },
  {
   "cell_type": "code",
   "execution_count": 6,
   "id": "ea782346-d6cd-4672-bac8-c078846dcf0f",
   "metadata": {},
   "outputs": [],
   "source": [
    "# Sort registries\n",
    "dim_currency = dim_currency.assign(LowerCurrencyName=list(dim_currency[\"CurrencyName\"]))\n",
    "dim_currency[\"LowerCurrencyName\"] = dim_currency[\"LowerCurrencyName\"].apply(lambda x: x.lower())\n",
    "dim_currency = dim_currency.sort_values(by=[\"LowerCurrencyName\"])\n",
    "dim_currency = dim_currency.reset_index(drop=True)\n",
    "dim_currency.index += 1"
   ]
  },
  {
   "cell_type": "code",
   "execution_count": 7,
   "id": "5fdd25a1-3a51-4504-8800-1244f88b62dd",
   "metadata": {},
   "outputs": [
    {
     "data": {
      "text/html": [
       "<div>\n",
       "<style scoped>\n",
       "    .dataframe tbody tr th:only-of-type {\n",
       "        vertical-align: middle;\n",
       "    }\n",
       "\n",
       "    .dataframe tbody tr th {\n",
       "        vertical-align: top;\n",
       "    }\n",
       "\n",
       "    .dataframe thead th {\n",
       "        text-align: right;\n",
       "    }\n",
       "</style>\n",
       "<table border=\"1\" class=\"dataframe\">\n",
       "  <thead>\n",
       "    <tr style=\"text-align: right;\">\n",
       "      <th></th>\n",
       "      <th>CurrencyAlternateKey</th>\n",
       "      <th>CurrencyName</th>\n",
       "    </tr>\n",
       "  </thead>\n",
       "  <tbody>\n",
       "    <tr>\n",
       "      <th>1</th>\n",
       "      <td>AFA</td>\n",
       "      <td>Afghani</td>\n",
       "    </tr>\n",
       "    <tr>\n",
       "      <th>2</th>\n",
       "      <td>DZD</td>\n",
       "      <td>Algerian Dinar</td>\n",
       "    </tr>\n",
       "    <tr>\n",
       "      <th>3</th>\n",
       "      <td>ARS</td>\n",
       "      <td>Argentine Peso</td>\n",
       "    </tr>\n",
       "    <tr>\n",
       "      <th>4</th>\n",
       "      <td>AMD</td>\n",
       "      <td>Armenian Dram</td>\n",
       "    </tr>\n",
       "    <tr>\n",
       "      <th>5</th>\n",
       "      <td>AWG</td>\n",
       "      <td>Aruban Guilder</td>\n",
       "    </tr>\n",
       "    <tr>\n",
       "      <th>...</th>\n",
       "      <td>...</td>\n",
       "      <td>...</td>\n",
       "    </tr>\n",
       "    <tr>\n",
       "      <th>101</th>\n",
       "      <td>KRW</td>\n",
       "      <td>Won</td>\n",
       "    </tr>\n",
       "    <tr>\n",
       "      <th>102</th>\n",
       "      <td>JPY</td>\n",
       "      <td>Yen</td>\n",
       "    </tr>\n",
       "    <tr>\n",
       "      <th>103</th>\n",
       "      <td>CNY</td>\n",
       "      <td>Yuan Renminbi</td>\n",
       "    </tr>\n",
       "    <tr>\n",
       "      <th>104</th>\n",
       "      <td>ZWD</td>\n",
       "      <td>Zimbabwe Dollar</td>\n",
       "    </tr>\n",
       "    <tr>\n",
       "      <th>105</th>\n",
       "      <td>PLN</td>\n",
       "      <td>Zloty</td>\n",
       "    </tr>\n",
       "  </tbody>\n",
       "</table>\n",
       "<p>105 rows × 2 columns</p>\n",
       "</div>"
      ],
      "text/plain": [
       "    CurrencyAlternateKey     CurrencyName\n",
       "1                    AFA          Afghani\n",
       "2                    DZD   Algerian Dinar\n",
       "3                    ARS   Argentine Peso\n",
       "4                    AMD    Armenian Dram\n",
       "5                    AWG   Aruban Guilder\n",
       "..                   ...              ...\n",
       "101                  KRW              Won\n",
       "102                  JPY              Yen\n",
       "103                  CNY    Yuan Renminbi\n",
       "104                  ZWD  Zimbabwe Dollar\n",
       "105                  PLN            Zloty\n",
       "\n",
       "[105 rows x 2 columns]"
      ]
     },
     "execution_count": 7,
     "metadata": {},
     "output_type": "execute_result"
    }
   ],
   "source": [
    "dim_currency = dim_currency.drop(columns=[\"LowerCurrencyName\"])\n",
    "dim_currency"
   ]
  },
  {
   "cell_type": "markdown",
   "id": "475d7fa3-f321-47a7-b42f-92b5c2ed9cf1",
   "metadata": {},
   "source": [
    "## Load"
   ]
  },
  {
   "cell_type": "code",
   "execution_count": 8,
   "id": "0e55cf32-a13d-4a26-ae13-038e523d1e88",
   "metadata": {},
   "outputs": [
    {
     "data": {
      "text/plain": [
       "105"
      ]
     },
     "execution_count": 8,
     "metadata": {},
     "output_type": "execute_result"
    }
   ],
   "source": [
    "dim_currency.to_sql('DimCurrency', db_etl, if_exists='replace', index_label='CurrencyKey')"
   ]
  },
  {
   "cell_type": "code",
   "execution_count": null,
   "id": "5b52c7e3-9d72-48fd-9c2a-6188a39c3894",
   "metadata": {},
   "outputs": [],
   "source": []
  }
 ],
 "metadata": {
  "kernelspec": {
   "display_name": "Python 3 (ipykernel)",
   "language": "python",
   "name": "python3"
  },
  "language_info": {
   "codemirror_mode": {
    "name": "ipython",
    "version": 3
   },
   "file_extension": ".py",
   "mimetype": "text/x-python",
   "name": "python",
   "nbconvert_exporter": "python",
   "pygments_lexer": "ipython3",
   "version": "3.12.3"
  }
 },
 "nbformat": 4,
 "nbformat_minor": 5
}
