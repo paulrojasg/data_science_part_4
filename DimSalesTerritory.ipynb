{
 "cells": [
  {
   "cell_type": "markdown",
   "id": "10b481da-be8f-4ff7-81b6-eb3e2601e020",
   "metadata": {},
   "source": [
    "# SALES TERRITORY DIMENSION"
   ]
  },
  {
   "cell_type": "code",
   "execution_count": 1,
   "id": "29564c65-516e-45e4-98f2-fe1419c1fd62",
   "metadata": {},
   "outputs": [],
   "source": [
    "import pandas as pd\n",
    "from connection_script import connect_databases"
   ]
  },
  {
   "cell_type": "code",
   "execution_count": 2,
   "id": "ffb0d792-29a6-4032-abaf-0dbda41f63a0",
   "metadata": {},
   "outputs": [],
   "source": [
    "db_op, db_etl = connect_databases()"
   ]
  },
  {
   "cell_type": "markdown",
   "id": "1202d26d-dc2d-44cd-9177-60e24f82012e",
   "metadata": {},
   "source": [
    "## EXTRACT"
   ]
  },
  {
   "cell_type": "code",
   "execution_count": 3,
   "id": "50b9df4a-0ec9-44cb-a753-851272666ca9",
   "metadata": {},
   "outputs": [],
   "source": [
    "query = \"\"\"\n",
    "        SELECT t1.*, t2.Name AS SalesTerritoryCountry \n",
    "        FROM [Sales].[SalesTerritory] AS t1\n",
    "        INNER JOIN [Person].[CountryRegion] AS t2\n",
    "        ON t1.CountryRegionCode = t2.CountryRegionCode;\n",
    "        \"\"\"\n",
    "\n",
    "dim_sales_territory = pd.read_sql_query(query, db_op)"
   ]
  },
  {
   "cell_type": "markdown",
   "id": "a901ed56-ae38-41bc-877e-3e817ffeee80",
   "metadata": {},
   "source": [
    "## TRANSFORM"
   ]
  },
  {
   "cell_type": "code",
   "execution_count": 4,
   "id": "e69d1925-26a1-4c49-b735-d21894927b34",
   "metadata": {},
   "outputs": [],
   "source": [
    "dim_sales_territory = dim_sales_territory.drop(columns=['rowguid', 'ModifiedDate', 'SalesYTD', 'SalesLastYear', 'CostYTD', 'CostLastYear', 'CountryRegionCode'])"
   ]
  },
  {
   "cell_type": "code",
   "execution_count": 5,
   "id": "7a9a06c0-eb49-4916-b586-bb2c2115b74e",
   "metadata": {},
   "outputs": [
    {
     "data": {
      "text/html": [
       "<div>\n",
       "<style scoped>\n",
       "    .dataframe tbody tr th:only-of-type {\n",
       "        vertical-align: middle;\n",
       "    }\n",
       "\n",
       "    .dataframe tbody tr th {\n",
       "        vertical-align: top;\n",
       "    }\n",
       "\n",
       "    .dataframe thead th {\n",
       "        text-align: right;\n",
       "    }\n",
       "</style>\n",
       "<table border=\"1\" class=\"dataframe\">\n",
       "  <thead>\n",
       "    <tr style=\"text-align: right;\">\n",
       "      <th></th>\n",
       "      <th>TerritoryID</th>\n",
       "      <th>Name</th>\n",
       "      <th>Group</th>\n",
       "      <th>SalesTerritoryCountry</th>\n",
       "    </tr>\n",
       "  </thead>\n",
       "  <tbody>\n",
       "    <tr>\n",
       "      <th>0</th>\n",
       "      <td>1</td>\n",
       "      <td>Northwest</td>\n",
       "      <td>North America</td>\n",
       "      <td>United States</td>\n",
       "    </tr>\n",
       "    <tr>\n",
       "      <th>1</th>\n",
       "      <td>2</td>\n",
       "      <td>Northeast</td>\n",
       "      <td>North America</td>\n",
       "      <td>United States</td>\n",
       "    </tr>\n",
       "    <tr>\n",
       "      <th>2</th>\n",
       "      <td>3</td>\n",
       "      <td>Central</td>\n",
       "      <td>North America</td>\n",
       "      <td>United States</td>\n",
       "    </tr>\n",
       "    <tr>\n",
       "      <th>3</th>\n",
       "      <td>4</td>\n",
       "      <td>Southwest</td>\n",
       "      <td>North America</td>\n",
       "      <td>United States</td>\n",
       "    </tr>\n",
       "    <tr>\n",
       "      <th>4</th>\n",
       "      <td>5</td>\n",
       "      <td>Southeast</td>\n",
       "      <td>North America</td>\n",
       "      <td>United States</td>\n",
       "    </tr>\n",
       "    <tr>\n",
       "      <th>5</th>\n",
       "      <td>6</td>\n",
       "      <td>Canada</td>\n",
       "      <td>North America</td>\n",
       "      <td>Canada</td>\n",
       "    </tr>\n",
       "    <tr>\n",
       "      <th>6</th>\n",
       "      <td>7</td>\n",
       "      <td>France</td>\n",
       "      <td>Europe</td>\n",
       "      <td>France</td>\n",
       "    </tr>\n",
       "    <tr>\n",
       "      <th>7</th>\n",
       "      <td>8</td>\n",
       "      <td>Germany</td>\n",
       "      <td>Europe</td>\n",
       "      <td>Germany</td>\n",
       "    </tr>\n",
       "    <tr>\n",
       "      <th>8</th>\n",
       "      <td>9</td>\n",
       "      <td>Australia</td>\n",
       "      <td>Pacific</td>\n",
       "      <td>Australia</td>\n",
       "    </tr>\n",
       "    <tr>\n",
       "      <th>9</th>\n",
       "      <td>10</td>\n",
       "      <td>United Kingdom</td>\n",
       "      <td>Europe</td>\n",
       "      <td>United Kingdom</td>\n",
       "    </tr>\n",
       "  </tbody>\n",
       "</table>\n",
       "</div>"
      ],
      "text/plain": [
       "   TerritoryID            Name          Group SalesTerritoryCountry\n",
       "0            1       Northwest  North America         United States\n",
       "1            2       Northeast  North America         United States\n",
       "2            3         Central  North America         United States\n",
       "3            4       Southwest  North America         United States\n",
       "4            5       Southeast  North America         United States\n",
       "5            6          Canada  North America                Canada\n",
       "6            7          France         Europe                France\n",
       "7            8         Germany         Europe               Germany\n",
       "8            9       Australia        Pacific             Australia\n",
       "9           10  United Kingdom         Europe        United Kingdom"
      ]
     },
     "execution_count": 5,
     "metadata": {},
     "output_type": "execute_result"
    }
   ],
   "source": [
    "dim_sales_territory"
   ]
  },
  {
   "cell_type": "code",
   "execution_count": 6,
   "id": "faa7c7cc-1fda-48d2-b196-5cf17a421325",
   "metadata": {},
   "outputs": [],
   "source": [
    "# Rename columns\n",
    "dim_sales_territory = dim_sales_territory.rename(columns={'TerritoryID':'SalesTerritoryAlternateKey',\n",
    "                                    'Name':'SalesTerritoryRegion', \n",
    "                                   'Group': 'SalesTerritoryGroup'})"
   ]
  },
  {
   "cell_type": "code",
   "execution_count": 7,
   "id": "33650908-f94f-41a8-80bb-6723fcf29592",
   "metadata": {},
   "outputs": [],
   "source": [
    "# Insert empty instance\n",
    "empty_instance = {\n",
    "                  'SalesTerritoryAlternateKey':0,\n",
    "                  'SalesTerritoryRegion':'NA',\n",
    "                  'SalesTerritoryCountry':'NA',\n",
    "                  'SalesTerritoryGroup':'NA'\n",
    "                }\n",
    "\n",
    "dim_sales_territory = dim_sales_territory._append(empty_instance, ignore_index=True)"
   ]
  },
  {
   "cell_type": "code",
   "execution_count": 8,
   "id": "8efb65f9-00c9-4158-93b9-2360b19b3d87",
   "metadata": {},
   "outputs": [],
   "source": [
    "# Sort columns\n",
    "dim_sales_territory = dim_sales_territory[['SalesTerritoryAlternateKey', 'SalesTerritoryRegion', 'SalesTerritoryCountry', 'SalesTerritoryGroup']]"
   ]
  },
  {
   "cell_type": "code",
   "execution_count": 9,
   "id": "8dc8f95b-8659-4f50-b515-2b346bbe45f7",
   "metadata": {},
   "outputs": [
    {
     "data": {
      "text/html": [
       "<div>\n",
       "<style scoped>\n",
       "    .dataframe tbody tr th:only-of-type {\n",
       "        vertical-align: middle;\n",
       "    }\n",
       "\n",
       "    .dataframe tbody tr th {\n",
       "        vertical-align: top;\n",
       "    }\n",
       "\n",
       "    .dataframe thead th {\n",
       "        text-align: right;\n",
       "    }\n",
       "</style>\n",
       "<table border=\"1\" class=\"dataframe\">\n",
       "  <thead>\n",
       "    <tr style=\"text-align: right;\">\n",
       "      <th></th>\n",
       "      <th>SalesTerritoryAlternateKey</th>\n",
       "      <th>SalesTerritoryRegion</th>\n",
       "      <th>SalesTerritoryCountry</th>\n",
       "      <th>SalesTerritoryGroup</th>\n",
       "    </tr>\n",
       "  </thead>\n",
       "  <tbody>\n",
       "    <tr>\n",
       "      <th>0</th>\n",
       "      <td>1</td>\n",
       "      <td>Northwest</td>\n",
       "      <td>United States</td>\n",
       "      <td>North America</td>\n",
       "    </tr>\n",
       "    <tr>\n",
       "      <th>1</th>\n",
       "      <td>2</td>\n",
       "      <td>Northeast</td>\n",
       "      <td>United States</td>\n",
       "      <td>North America</td>\n",
       "    </tr>\n",
       "    <tr>\n",
       "      <th>2</th>\n",
       "      <td>3</td>\n",
       "      <td>Central</td>\n",
       "      <td>United States</td>\n",
       "      <td>North America</td>\n",
       "    </tr>\n",
       "    <tr>\n",
       "      <th>3</th>\n",
       "      <td>4</td>\n",
       "      <td>Southwest</td>\n",
       "      <td>United States</td>\n",
       "      <td>North America</td>\n",
       "    </tr>\n",
       "    <tr>\n",
       "      <th>4</th>\n",
       "      <td>5</td>\n",
       "      <td>Southeast</td>\n",
       "      <td>United States</td>\n",
       "      <td>North America</td>\n",
       "    </tr>\n",
       "    <tr>\n",
       "      <th>5</th>\n",
       "      <td>6</td>\n",
       "      <td>Canada</td>\n",
       "      <td>Canada</td>\n",
       "      <td>North America</td>\n",
       "    </tr>\n",
       "    <tr>\n",
       "      <th>6</th>\n",
       "      <td>7</td>\n",
       "      <td>France</td>\n",
       "      <td>France</td>\n",
       "      <td>Europe</td>\n",
       "    </tr>\n",
       "    <tr>\n",
       "      <th>7</th>\n",
       "      <td>8</td>\n",
       "      <td>Germany</td>\n",
       "      <td>Germany</td>\n",
       "      <td>Europe</td>\n",
       "    </tr>\n",
       "    <tr>\n",
       "      <th>8</th>\n",
       "      <td>9</td>\n",
       "      <td>Australia</td>\n",
       "      <td>Australia</td>\n",
       "      <td>Pacific</td>\n",
       "    </tr>\n",
       "    <tr>\n",
       "      <th>9</th>\n",
       "      <td>10</td>\n",
       "      <td>United Kingdom</td>\n",
       "      <td>United Kingdom</td>\n",
       "      <td>Europe</td>\n",
       "    </tr>\n",
       "    <tr>\n",
       "      <th>10</th>\n",
       "      <td>0</td>\n",
       "      <td>NA</td>\n",
       "      <td>NA</td>\n",
       "      <td>NA</td>\n",
       "    </tr>\n",
       "  </tbody>\n",
       "</table>\n",
       "</div>"
      ],
      "text/plain": [
       "    SalesTerritoryAlternateKey SalesTerritoryRegion SalesTerritoryCountry  \\\n",
       "0                            1            Northwest         United States   \n",
       "1                            2            Northeast         United States   \n",
       "2                            3              Central         United States   \n",
       "3                            4            Southwest         United States   \n",
       "4                            5            Southeast         United States   \n",
       "5                            6               Canada                Canada   \n",
       "6                            7               France                France   \n",
       "7                            8              Germany               Germany   \n",
       "8                            9            Australia             Australia   \n",
       "9                           10       United Kingdom        United Kingdom   \n",
       "10                           0                   NA                    NA   \n",
       "\n",
       "   SalesTerritoryGroup  \n",
       "0        North America  \n",
       "1        North America  \n",
       "2        North America  \n",
       "3        North America  \n",
       "4        North America  \n",
       "5        North America  \n",
       "6               Europe  \n",
       "7               Europe  \n",
       "8              Pacific  \n",
       "9               Europe  \n",
       "10                  NA  "
      ]
     },
     "execution_count": 9,
     "metadata": {},
     "output_type": "execute_result"
    }
   ],
   "source": [
    "dim_sales_territory"
   ]
  },
  {
   "cell_type": "markdown",
   "id": "b64b13ae-63ba-4739-bb6d-32ccea8400c5",
   "metadata": {},
   "source": [
    "## LOAD"
   ]
  },
  {
   "cell_type": "code",
   "execution_count": 10,
   "id": "022bc0d5-0827-4831-8e46-670d7d51922f",
   "metadata": {},
   "outputs": [
    {
     "data": {
      "text/plain": [
       "11"
      ]
     },
     "execution_count": 10,
     "metadata": {},
     "output_type": "execute_result"
    }
   ],
   "source": [
    "# Sales Territory Image is still missing!!\n",
    "dim_sales_territory.index += 1\n",
    "dim_sales_territory.to_sql('DimSalesTerritory', db_etl, if_exists='replace', index_label='SalesTerritoryKey')"
   ]
  },
  {
   "cell_type": "code",
   "execution_count": null,
   "id": "c13ce09f-d169-4ce8-a6c1-8216140cec65",
   "metadata": {},
   "outputs": [],
   "source": []
  }
 ],
 "metadata": {
  "kernelspec": {
   "display_name": "Python 3 (ipykernel)",
   "language": "python",
   "name": "python3"
  },
  "language_info": {
   "codemirror_mode": {
    "name": "ipython",
    "version": 3
   },
   "file_extension": ".py",
   "mimetype": "text/x-python",
   "name": "python",
   "nbconvert_exporter": "python",
   "pygments_lexer": "ipython3",
   "version": "3.12.3"
  }
 },
 "nbformat": 4,
 "nbformat_minor": 5
}
